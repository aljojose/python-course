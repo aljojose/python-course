{
 "cells": [
  {
   "cell_type": "markdown",
   "metadata": {},
   "source": [
    "### A few tips in Python"
   ]
  },
  {
   "cell_type": "markdown",
   "metadata": {},
   "source": [
    "** Can you print even numbers upto 25 ?**"
   ]
  },
  {
   "cell_type": "code",
   "execution_count": 10,
   "metadata": {},
   "outputs": [
    {
     "name": "stdout",
     "output_type": "stream",
     "text": [
      "even numbers using usual loop :  [0, 2, 4, 6, 8, 10, 12, 14, 16, 18, 20, 22, 24]\n"
     ]
    }
   ],
   "source": [
    "# option 1 - usual for loop.\n",
    "evens1 = []\n",
    "for i in range(25):\n",
    "    if i%2 == 0:\n",
    "        evens1.append(i)\n",
    "print('even numbers using usual loop : ', evens1)"
   ]
  },
  {
   "cell_type": "code",
   "execution_count": 47,
   "metadata": {},
   "outputs": [
    {
     "name": "stdout",
     "output_type": "stream",
     "text": [
      "even numbers using list comprehension :  [0, 2, 4, 6, 8, 10, 12, 14, 16, 18, 20, 22, 24]\n"
     ]
    }
   ],
   "source": [
    "# option 2 - using list comprehension. (pythonic style)\n",
    "evens2 =  [i for i in range(25) if i %2 ==0]\n",
    "print('even numbers using list comprehension : ',evens2)\n"
   ]
  },
  {
   "cell_type": "markdown",
   "metadata": {},
   "source": [
    "** All squares upto 100 ? **"
   ]
  },
  {
   "cell_type": "code",
   "execution_count": 23,
   "metadata": {},
   "outputs": [
    {
     "name": "stdout",
     "output_type": "stream",
     "text": [
      "Enter limit : 10\n",
      "[0, 1, 4, 9, 16, 25, 36, 49, 64, 81, 100]\n"
     ]
    }
   ],
   "source": [
    "N = int(input('Enter limit : '))\n",
    "squares = [x**2 for x in range(N+1)]\n",
    "print(squares)"
   ]
  },
  {
   "cell_type": "markdown",
   "metadata": {},
   "source": [
    "** Age finder **"
   ]
  },
  {
   "cell_type": "code",
   "execution_count": 41,
   "metadata": {},
   "outputs": [],
   "source": [
    "birth_year = [1980, 1984, 1990, 1985, 2005]\n",
    "ages = []"
   ]
  },
  {
   "cell_type": "code",
   "execution_count": 40,
   "metadata": {},
   "outputs": [
    {
     "name": "stdout",
     "output_type": "stream",
     "text": [
      "ages :  [38, 34, 28, 33, 13]\n"
     ]
    }
   ],
   "source": [
    "# get current year\n",
    "from datetime import datetime\n",
    "current_year = datetime.now().year\n",
    "\n",
    "ages = [current_year - y for y in birth_year]\n",
    "print('ages : ', ages)"
   ]
  },
  {
   "cell_type": "markdown",
   "metadata": {},
   "source": [
    "---"
   ]
  },
  {
   "cell_type": "markdown",
   "metadata": {},
   "source": [
    "### How to keep counter inside a loop ?"
   ]
  },
  {
   "cell_type": "code",
   "execution_count": 42,
   "metadata": {},
   "outputs": [],
   "source": [
    "fruits = ['apple', 'grapes', 'strawberry', 'plums']"
   ]
  },
  {
   "cell_type": "markdown",
   "metadata": {},
   "source": [
    "** Try to print list of fruits like below **\n",
    "1. apple\n",
    "2. grapes\n",
    "3. strawberry\n",
    "4. plums"
   ]
  },
  {
   "cell_type": "code",
   "execution_count": 43,
   "metadata": {},
   "outputs": [
    {
     "name": "stdout",
     "output_type": "stream",
     "text": [
      "1. apple\n",
      "2. grapes\n",
      "3. strawberry\n",
      "4. plums\n"
     ]
    }
   ],
   "source": [
    "# option 1 - loop style.\n",
    "i = 0\n",
    "for fruit in fruits:\n",
    "    i += 1\n",
    "    print(str(i) + '. ' + fruit)"
   ]
  },
  {
   "cell_type": "code",
   "execution_count": 48,
   "metadata": {},
   "outputs": [
    {
     "name": "stdout",
     "output_type": "stream",
     "text": [
      "1. apple\n",
      "2. grapes\n",
      "3. strawberry\n",
      "4. plums\n"
     ]
    }
   ],
   "source": [
    "# option 2 - using enumerate. (pythonic style)\n",
    "for i,fruit in enumerate(fruits, start=1):\n",
    "    print(str(i) + '. ' + fruit)"
   ]
  },
  {
   "cell_type": "markdown",
   "metadata": {},
   "source": [
    "### One liners"
   ]
  },
  {
   "cell_type": "code",
   "execution_count": 50,
   "metadata": {},
   "outputs": [
    {
     "name": "stdout",
     "output_type": "stream",
     "text": [
      "Enter marks : 39\n",
      "fail\n"
     ]
    }
   ],
   "source": [
    "# if..else\n",
    "marks = int(input('Enter marks : '))\n",
    "result = 'pass' if marks > 40 else 'fail'\n",
    "print(result)"
   ]
  },
  {
   "cell_type": "code",
   "execution_count": 58,
   "metadata": {},
   "outputs": [
    {
     "name": "stdout",
     "output_type": "stream",
     "text": [
      "55.0\n"
     ]
    }
   ],
   "source": [
    "# or\n",
    "default_tax = 5\n",
    "bill_amount = 50.00\n",
    "tax = None\n",
    "total_amount = bill_amount + ( tax or default_tax) \n",
    "# if tax is None, take value from default tax otherwise take value of tax.\n",
    "print(total_amount)"
   ]
  },
  {
   "cell_type": "code",
   "execution_count": 56,
   "metadata": {},
   "outputs": [
    {
     "name": "stdout",
     "output_type": "stream",
     "text": [
      "10\n"
     ]
    }
   ],
   "source": [
    "# or\n",
    "val = None\n",
    "print (val or 10)"
   ]
  },
  {
   "cell_type": "code",
   "execution_count": 57,
   "metadata": {},
   "outputs": [
    {
     "name": "stdout",
     "output_type": "stream",
     "text": [
      "5\n"
     ]
    }
   ],
   "source": [
    "val = 5\n",
    "print(val or 10)"
   ]
  },
  {
   "cell_type": "markdown",
   "metadata": {},
   "source": [
    "### List slicing"
   ]
  },
  {
   "cell_type": "code",
   "execution_count": 60,
   "metadata": {},
   "outputs": [
    {
     "name": "stdout",
     "output_type": "stream",
     "text": [
      "['slice1', 'slice2', 'slice3', 'slice4', 'slice5']\n"
     ]
    }
   ],
   "source": [
    "pizza = ['slice1', 'slice2', 'slice3', 'slice4', 'slice5']\n",
    "print(pizza)"
   ]
  },
  {
   "cell_type": "code",
   "execution_count": 64,
   "metadata": {},
   "outputs": [
    {
     "name": "stdout",
     "output_type": "stream",
     "text": [
      "['slice1', 'slice2']\n"
     ]
    }
   ],
   "source": [
    "print(pizza[:2]) # first two values."
   ]
  },
  {
   "cell_type": "code",
   "execution_count": 65,
   "metadata": {},
   "outputs": [
    {
     "name": "stdout",
     "output_type": "stream",
     "text": [
      "slice5\n"
     ]
    }
   ],
   "source": [
    "print(pizza[-1]) # last value"
   ]
  },
  {
   "cell_type": "code",
   "execution_count": 69,
   "metadata": {},
   "outputs": [
    {
     "name": "stdout",
     "output_type": "stream",
     "text": [
      "['slice2', 'slice3']\n"
     ]
    }
   ],
   "source": [
    "# get slice2 and slice 3\n",
    "print(pizza[1:3])"
   ]
  },
  {
   "cell_type": "code",
   "execution_count": 71,
   "metadata": {},
   "outputs": [
    {
     "name": "stdout",
     "output_type": "stream",
     "text": [
      "['slice1', 'slice2', 'slice3', 'slice4']\n"
     ]
    }
   ],
   "source": [
    "# get all except last slice\n",
    "print(pizza[:-1])"
   ]
  },
  {
   "cell_type": "code",
   "execution_count": 72,
   "metadata": {},
   "outputs": [
    {
     "name": "stdout",
     "output_type": "stream",
     "text": [
      "['slice4', 'slice5']\n"
     ]
    }
   ],
   "source": [
    "# get last two slices\n",
    "print(pizza[-2:])"
   ]
  },
  {
   "cell_type": "markdown",
   "metadata": {},
   "source": [
    "** Excercise ** "
   ]
  },
  {
   "cell_type": "code",
   "execution_count": 73,
   "metadata": {},
   "outputs": [],
   "source": [
    "words = ['sample', 'test', 'honda', 'civic', 'learn', 'refer']"
   ]
  },
  {
   "cell_type": "markdown",
   "metadata": {},
   "source": [
    "** Find words having same first and last letter **"
   ]
  },
  {
   "cell_type": "code",
   "execution_count": 76,
   "metadata": {},
   "outputs": [
    {
     "name": "stdout",
     "output_type": "stream",
     "text": [
      "['test', 'civic', 'refer']\n"
     ]
    }
   ],
   "source": [
    "output = [word for word in words if word[0] == word[-1]]\n",
    "print(output)"
   ]
  },
  {
   "cell_type": "code",
   "execution_count": null,
   "metadata": {},
   "outputs": [],
   "source": []
  }
 ],
 "metadata": {
  "kernelspec": {
   "display_name": "Python 3",
   "language": "python",
   "name": "python3"
  },
  "language_info": {
   "codemirror_mode": {
    "name": "ipython",
    "version": 3
   },
   "file_extension": ".py",
   "mimetype": "text/x-python",
   "name": "python",
   "nbconvert_exporter": "python",
   "pygments_lexer": "ipython3",
   "version": "3.6.5"
  }
 },
 "nbformat": 4,
 "nbformat_minor": 2
}
