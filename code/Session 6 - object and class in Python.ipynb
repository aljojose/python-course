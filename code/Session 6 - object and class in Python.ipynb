{
 "cells": [
  {
   "cell_type": "markdown",
   "metadata": {},
   "source": [
    "### Object and Class in Python"
   ]
  },
  {
   "cell_type": "code",
   "execution_count": 15,
   "metadata": {},
   "outputs": [],
   "source": [
    "my_list = [1,2,3]"
   ]
  },
  {
   "cell_type": "code",
   "execution_count": 16,
   "metadata": {},
   "outputs": [
    {
     "data": {
      "text/plain": [
       "list"
      ]
     },
     "execution_count": 16,
     "metadata": {},
     "output_type": "execute_result"
    }
   ],
   "source": [
    "type(my_list)"
   ]
  },
  {
   "cell_type": "markdown",
   "metadata": {},
   "source": [
    "##### here \"list\" is a class and \"my_list\" is object of \"list\""
   ]
  },
  {
   "cell_type": "code",
   "execution_count": 17,
   "metadata": {},
   "outputs": [],
   "source": [
    "my_list.append(10)"
   ]
  },
  {
   "cell_type": "code",
   "execution_count": 18,
   "metadata": {},
   "outputs": [
    {
     "name": "stdout",
     "output_type": "stream",
     "text": [
      "[1, 2, 3, 10]\n"
     ]
    }
   ],
   "source": [
    "print(my_list)"
   ]
  },
  {
   "cell_type": "code",
   "execution_count": 19,
   "metadata": {},
   "outputs": [],
   "source": [
    "my_list.remove(2)"
   ]
  },
  {
   "cell_type": "code",
   "execution_count": 20,
   "metadata": {},
   "outputs": [
    {
     "name": "stdout",
     "output_type": "stream",
     "text": [
      "[1, 3, 10]\n"
     ]
    }
   ],
   "source": [
    "print(my_list)"
   ]
  },
  {
   "cell_type": "code",
   "execution_count": 21,
   "metadata": {},
   "outputs": [
    {
     "name": "stdout",
     "output_type": "stream",
     "text": [
      "1\n"
     ]
    }
   ],
   "source": [
    "print(my_list.index(3))"
   ]
  },
  {
   "cell_type": "markdown",
   "metadata": {},
   "source": [
    "### Now, let us create our own class !"
   ]
  },
  {
   "cell_type": "code",
   "execution_count": 33,
   "metadata": {},
   "outputs": [],
   "source": [
    "class Fruit:\n",
    "    def __init__(self, name, color, taste, poisonous):\n",
    "        self.name = name\n",
    "        self.color = color\n",
    "        self.taste = taste\n",
    "        self.poisonous = poisonous\n",
    "        \n",
    "    def describe(self):\n",
    "        print('I am a %s %s with %s taste' % (self.color, self.name, self.taste))\n",
    "        \n",
    "    def is_edible(self):\n",
    "        if self.poisonous:\n",
    "            print('Dont eat me.. I am poisonous!')\n",
    "        else:\n",
    "            print('Yep! I am edible')"
   ]
  },
  {
   "cell_type": "code",
   "execution_count": 34,
   "metadata": {},
   "outputs": [],
   "source": [
    "lemon = Fruit('lemon','yellow','sour',False)"
   ]
  },
  {
   "cell_type": "code",
   "execution_count": 31,
   "metadata": {},
   "outputs": [
    {
     "name": "stdout",
     "output_type": "stream",
     "text": [
      "I am a yellow lemon with sour taste\n"
     ]
    }
   ],
   "source": [
    "lemon.describe()"
   ]
  },
  {
   "cell_type": "code",
   "execution_count": 35,
   "metadata": {},
   "outputs": [
    {
     "name": "stdout",
     "output_type": "stream",
     "text": [
      "Yep! I am edible\n"
     ]
    }
   ],
   "source": [
    "lemon.is_edible()"
   ]
  },
  {
   "cell_type": "code",
   "execution_count": 38,
   "metadata": {},
   "outputs": [],
   "source": [
    "dragon_fruit = Fruit('dragon','red','bitter',True)"
   ]
  },
  {
   "cell_type": "code",
   "execution_count": 39,
   "metadata": {},
   "outputs": [
    {
     "name": "stdout",
     "output_type": "stream",
     "text": [
      "I am a red dragon with bitter taste\n"
     ]
    }
   ],
   "source": [
    "dragon_fruit.describe()"
   ]
  },
  {
   "cell_type": "code",
   "execution_count": 40,
   "metadata": {},
   "outputs": [
    {
     "name": "stdout",
     "output_type": "stream",
     "text": [
      "Dont eat me.. I am poisonous!\n"
     ]
    }
   ],
   "source": [
    "dragon_fruit.is_edible()"
   ]
  },
  {
   "cell_type": "markdown",
   "metadata": {},
   "source": [
    "### Excericse 1"
   ]
  },
  {
   "cell_type": "markdown",
   "metadata": {},
   "source": [
    "1. Create a Customer class.\n",
    "2. Customer has name and account balance.\n",
    "3. Customer should be able to check balance, deposit amount, withdraw amount. \n",
    "\n",
    "**Notes:**      \n",
    "*  Minimum balance can be 0.   \n",
    "*  No deposit of amount less than 10.  \n",
    "*  Dont allow customer to withdraw amount if there is no sufficient balance.\n",
    "\n",
    "**Some more.. **\n",
    "*  Create a list of five customers.\n",
    "*  Find who has the highest balance."
   ]
  },
  {
   "cell_type": "code",
   "execution_count": 82,
   "metadata": {},
   "outputs": [],
   "source": [
    "class Customer():\n",
    "    def __init__(self,name,balance=0):\n",
    "        self.name = name\n",
    "        self.balance = balance\n",
    "        self.min_deposit = 10\n",
    "        \n",
    "    def view_balance(self):\n",
    "        return self.balance\n",
    "    \n",
    "    def deposit(self,amount):\n",
    "        if amount>self.min_deposit:\n",
    "            self.balance += amount\n",
    "            return True\n",
    "        else:\n",
    "            return False\n",
    "    \n",
    "    def withdraw(self, amount):\n",
    "        if self.balance - amount > 0:\n",
    "            self.balance -= amount\n",
    "            return True\n",
    "        else:\n",
    "            return False\n",
    "        \n",
    "    def describe(self):\n",
    "        print('Name :%s, balance:%f '%(self.name, self.balance))"
   ]
  },
  {
   "cell_type": "code",
   "execution_count": 83,
   "metadata": {},
   "outputs": [
    {
     "name": "stdout",
     "output_type": "stream",
     "text": [
      "Name :sam, balance:1000.000000 \n"
     ]
    }
   ],
   "source": [
    "customer1 = Customer(\"sam\",1000.0)\n",
    "customer1.describe()"
   ]
  },
  {
   "cell_type": "code",
   "execution_count": 64,
   "metadata": {},
   "outputs": [
    {
     "name": "stdout",
     "output_type": "stream",
     "text": [
      "Your current balance is 995.0\n"
     ]
    }
   ],
   "source": [
    "print('Your current balance is', customer1.view_balance())"
   ]
  },
  {
   "cell_type": "code",
   "execution_count": 57,
   "metadata": {},
   "outputs": [],
   "source": [
    "# deposit ---"
   ]
  },
  {
   "cell_type": "code",
   "execution_count": 66,
   "metadata": {},
   "outputs": [
    {
     "name": "stdout",
     "output_type": "stream",
     "text": [
      "Enter amount to deposit : 105\n",
      "transaction successful!\n",
      "Your current balance is 1000.0\n"
     ]
    }
   ],
   "source": [
    "amount = float(input(\"Enter amount to deposit : \"))\n",
    "is_sucsess = customer1.deposit(amount)\n",
    "if is_sucsess:\n",
    "    print('transaction successful!')\n",
    "    print('Your current balance is', customer1.view_balance())\n",
    "else:\n",
    "    print(\"Error ! Minimium deposit amount is \", customer1.min_deposit)"
   ]
  },
  {
   "cell_type": "code",
   "execution_count": null,
   "metadata": {},
   "outputs": [],
   "source": [
    "# --- withdraw ---"
   ]
  },
  {
   "cell_type": "code",
   "execution_count": 65,
   "metadata": {},
   "outputs": [
    {
     "name": "stdout",
     "output_type": "stream",
     "text": [
      "Enter amount to withdraw : 100\n",
      "transaction successful!\n",
      "Your current balance is 895.0\n"
     ]
    }
   ],
   "source": [
    "amount = float(input(\"Enter amount to withdraw : \"))\n",
    "is_sucsess = customer1.withdraw(amount)\n",
    "if is_sucsess:\n",
    "    print('transaction successful!')\n",
    "    print('Your current balance is', customer1.view_balance())\n",
    "else:\n",
    "    print(\"Error ! No sufficient balance\")"
   ]
  },
  {
   "cell_type": "markdown",
   "metadata": {},
   "source": [
    "### Multiple customers"
   ]
  },
  {
   "cell_type": "code",
   "execution_count": 67,
   "metadata": {},
   "outputs": [],
   "source": [
    "# How to generate a random number.\n",
    "# import random\n",
    "# num = random.randint(1,1000)\n",
    "# print(num)"
   ]
  },
  {
   "cell_type": "code",
   "execution_count": 84,
   "metadata": {},
   "outputs": [],
   "source": [
    "import random\n",
    "n_customers = 5\n",
    "customer_list = []\n",
    "for i in range(n_customers):\n",
    "    name = \"customer\" + str(i+1)\n",
    "    balance = random.randint(1,1000) \n",
    "    obj_customer = Customer(name, balance)\n",
    "    customer_list.append(obj_customer)"
   ]
  },
  {
   "cell_type": "code",
   "execution_count": 86,
   "metadata": {},
   "outputs": [
    {
     "name": "stdout",
     "output_type": "stream",
     "text": [
      "Name :customer1, balance:218.000000 \n",
      "Name :customer2, balance:319.000000 \n",
      "Name :customer3, balance:517.000000 \n",
      "Name :customer4, balance:272.000000 \n",
      "Name :customer5, balance:939.000000 \n"
     ]
    }
   ],
   "source": [
    "high_cust = customer_list[0]\n",
    "for cust in customer_list:\n",
    "    cust.describe()\n",
    "    if cust.view_balance() > high_cust.view_balance():\n",
    "        high_cust = cust"
   ]
  },
  {
   "cell_type": "code",
   "execution_count": 87,
   "metadata": {},
   "outputs": [
    {
     "name": "stdout",
     "output_type": "stream",
     "text": [
      "Name :customer5, balance:939.000000 \n"
     ]
    }
   ],
   "source": [
    "# customer with highest balance.\n",
    "high_cust.describe()"
   ]
  },
  {
   "cell_type": "code",
   "execution_count": null,
   "metadata": {},
   "outputs": [],
   "source": []
  }
 ],
 "metadata": {
  "kernelspec": {
   "display_name": "Python 3",
   "language": "python",
   "name": "python3"
  },
  "language_info": {
   "codemirror_mode": {
    "name": "ipython",
    "version": 3
   },
   "file_extension": ".py",
   "mimetype": "text/x-python",
   "name": "python",
   "nbconvert_exporter": "python",
   "pygments_lexer": "ipython3",
   "version": "3.6.5"
  }
 },
 "nbformat": 4,
 "nbformat_minor": 2
}
