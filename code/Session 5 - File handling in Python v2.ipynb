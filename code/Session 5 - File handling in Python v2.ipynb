{
 "cells": [
  {
   "cell_type": "markdown",
   "metadata": {},
   "source": [
    "## File handling in Python"
   ]
  },
  {
   "cell_type": "markdown",
   "metadata": {},
   "source": [
    "### Read from file"
   ]
  },
  {
   "cell_type": "code",
   "execution_count": 7,
   "metadata": {},
   "outputs": [
    {
     "name": "stdout",
     "output_type": "stream",
     "text": [
      "hello..\n",
      "Welcome to file handling session.\n",
      "Hope you are enjoying it..\n",
      "Happy coding!\n"
     ]
    }
   ],
   "source": [
    "#  open connection to file.\n",
    "#f = open(\"C:\\\\Users\\\\test\\\\Desktop\\\\Python Course\\\\hello.txt\", 'r')\n",
    "f = open(\"hello.txt\")\n",
    "# read all contents.\n",
    "content = f.read()\n",
    "print(content)\n",
    "\n",
    "# close connection to file.\n",
    "f.close()"
   ]
  },
  {
   "cell_type": "code",
   "execution_count": 8,
   "metadata": {},
   "outputs": [
    {
     "data": {
      "text/plain": [
       "'hello..\\n'"
      ]
     },
     "execution_count": 8,
     "metadata": {},
     "output_type": "execute_result"
    }
   ],
   "source": [
    "# read from a huge file ?!\n",
    "f = open(\"hello.txt\")\n",
    "f.readline()"
   ]
  },
  {
   "cell_type": "code",
   "execution_count": 9,
   "metadata": {},
   "outputs": [
    {
     "data": {
      "text/plain": [
       "'Welcome to file handling session.\\n'"
      ]
     },
     "execution_count": 9,
     "metadata": {},
     "output_type": "execute_result"
    }
   ],
   "source": [
    "f.readline()"
   ]
  },
  {
   "cell_type": "code",
   "execution_count": 11,
   "metadata": {},
   "outputs": [],
   "source": [
    "f.close()"
   ]
  },
  {
   "cell_type": "code",
   "execution_count": 14,
   "metadata": {},
   "outputs": [
    {
     "name": "stdout",
     "output_type": "stream",
     "text": [
      "hello..\n",
      "Welcome to file handling session.\n",
      "Hope you are enjoying it..\n",
      "Happy coding!"
     ]
    }
   ],
   "source": [
    "# loop through each line and read file completely.\n",
    "f = open(\"hello.txt\")\n",
    "for line in f:\n",
    "    print(line, end='')"
   ]
  },
  {
   "cell_type": "code",
   "execution_count": 15,
   "metadata": {},
   "outputs": [
    {
     "name": "stdout",
     "output_type": "stream",
     "text": [
      "ab\n"
     ]
    }
   ],
   "source": [
    "print(\"a\", end='')\n",
    "print(\"b\")"
   ]
  },
  {
   "cell_type": "code",
   "execution_count": 18,
   "metadata": {},
   "outputs": [
    {
     "name": "stdout",
     "output_type": "stream",
     "text": [
      "hello..\n",
      "Welcome to file handling session.\n",
      "Hope you are enjoying it..\n",
      "Happy coding!\n"
     ]
    }
   ],
   "source": [
    "# best practice\n",
    "with open(\"hello.txt\", 'r') as f:\n",
    "    data = f.read()\n",
    "    print(data)"
   ]
  },
  {
   "cell_type": "code",
   "execution_count": 23,
   "metadata": {},
   "outputs": [
    {
     "name": "stdout",
     "output_type": "stream",
     "text": [
      "number of lines in the file :  4\n"
     ]
    }
   ],
   "source": [
    "# do some operations while reading the file.\n",
    "line_count = 0\n",
    "with open('hello.txt', 'r') as f:\n",
    "    for line in f:\n",
    "        line_count += 1\n",
    "print('number of lines in the file : ', line_count)"
   ]
  },
  {
   "cell_type": "markdown",
   "metadata": {},
   "source": [
    "***Excercise.***\n",
    "1. Serach for an input string in file.\n",
    "2. Count frequency of word in a file."
   ]
  },
  {
   "cell_type": "code",
   "execution_count": 40,
   "metadata": {},
   "outputs": [
    {
     "name": "stdout",
     "output_type": "stream",
     "text": [
      "Enter input string : me\n",
      "found me at line :  I me myself\n",
      "\n",
      "word occured 1 time(s).\n"
     ]
    }
   ],
   "source": [
    "# Serach for an input string in file\n",
    "word = (input(\"Enter input string : \")).lower()\n",
    "is_found = False\n",
    "word_count = 0\n",
    "\n",
    "with open(\"hello.txt\", 'r') as f:\n",
    "    for line in f:\n",
    "        words = line.lower().split(' ')\n",
    "        if word in words:\n",
    "            print(\"found \" + word + \" at line : \", line)\n",
    "            word_count += 1\n",
    "            is_found = True\n",
    "if not is_found:\n",
    "    print(\"couldn't find in the file.\")\n",
    "else:\n",
    "    print('word occured ' + str(word_count) + ' time(s).' )"
   ]
  },
  {
   "cell_type": "code",
   "execution_count": 39,
   "metadata": {},
   "outputs": [
    {
     "data": {
      "text/plain": [
       "['hello', 'welcome', 'to', 'Python']"
      ]
     },
     "execution_count": 39,
     "metadata": {},
     "output_type": "execute_result"
    }
   ],
   "source": [
    "line = \"hello welcome to Python\"\n",
    "line.split(' ')"
   ]
  },
  {
   "cell_type": "markdown",
   "metadata": {},
   "source": [
    "----"
   ]
  },
  {
   "cell_type": "markdown",
   "metadata": {},
   "source": [
    "### Write to file"
   ]
  },
  {
   "cell_type": "code",
   "execution_count": 41,
   "metadata": {},
   "outputs": [],
   "source": [
    "# write some new content.\n",
    "with open('hello1.txt', 'w') as f:\n",
    "    f.write(\"winding up..\")"
   ]
  },
  {
   "cell_type": "code",
   "execution_count": 42,
   "metadata": {},
   "outputs": [],
   "source": [
    "# append something to existing file\n",
    "with open('hello2.txt', 'a') as f:\n",
    "    f.write(\"winding up..\")"
   ]
  },
  {
   "cell_type": "markdown",
   "metadata": {},
   "source": [
    "### File modes  \n",
    "* r - only read  \n",
    "* w - only write\n",
    "* r+ - read and write  \n",
    "* a - append\n",
    "\n",
    "\n"
   ]
  },
  {
   "cell_type": "markdown",
   "metadata": {},
   "source": [
    "---"
   ]
  },
  {
   "cell_type": "markdown",
   "metadata": {},
   "source": [
    "### Saving structured data using json"
   ]
  },
  {
   "cell_type": "markdown",
   "metadata": {},
   "source": [
    "----"
   ]
  }
 ],
 "metadata": {
  "kernelspec": {
   "display_name": "Python 3",
   "language": "python",
   "name": "python3"
  },
  "language_info": {
   "codemirror_mode": {
    "name": "ipython",
    "version": 3
   },
   "file_extension": ".py",
   "mimetype": "text/x-python",
   "name": "python",
   "nbconvert_exporter": "python",
   "pygments_lexer": "ipython3",
   "version": "3.6.5"
  }
 },
 "nbformat": 4,
 "nbformat_minor": 2
}
