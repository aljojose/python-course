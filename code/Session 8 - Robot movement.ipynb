{
 "cells": [
  {
   "cell_type": "markdown",
   "metadata": {},
   "source": [
    "### Robot tracking"
   ]
  },
  {
   "cell_type": "code",
   "execution_count": 1,
   "metadata": {},
   "outputs": [],
   "source": [
    "import math\n",
    "DIRECTIONS = ['up', 'down', 'right', 'left']"
   ]
  },
  {
   "cell_type": "code",
   "execution_count": 14,
   "metadata": {},
   "outputs": [],
   "source": [
    "def validate(instruction):\n",
    "    is_valid = True\n",
    "    try :\n",
    "        data = instruction.split(' ')\n",
    "        if data[0] not in DIRECTIONS:\n",
    "            is_valid = False\n",
    "        steps = int(data[1])\n",
    "    except :\n",
    "        is_valid = False\n",
    "    \n",
    "    return is_valid"
   ]
  },
  {
   "cell_type": "code",
   "execution_count": 19,
   "metadata": {},
   "outputs": [
    {
     "data": {
      "text/plain": [
       "False"
      ]
     },
     "execution_count": 19,
     "metadata": {},
     "output_type": "execute_result"
    }
   ],
   "source": [
    "validate('left a')"
   ]
  },
  {
   "cell_type": "code",
   "execution_count": 3,
   "metadata": {},
   "outputs": [],
   "source": [
    "def get_input():\n",
    "    instructions = []\n",
    "    while True:\n",
    "        instruction = input(\"Enter instruction :\")\n",
    "        if instruction:\n",
    "            if validate(instruction):\n",
    "                instructions.append(instruction)\n",
    "            else:\n",
    "                print('invalid instruction')\n",
    "        else:\n",
    "            break\n",
    "    return instructions"
   ]
  },
  {
   "cell_type": "code",
   "execution_count": 7,
   "metadata": {},
   "outputs": [
    {
     "name": "stdout",
     "output_type": "stream",
     "text": [
      "Enter instruction :down1\n",
      "invalid instruction\n",
      "Enter instruction :lef 6\n",
      "invalid instruction\n",
      "Enter instruction :left 6\n",
      "Enter instruction :left6\n",
      "invalid instruction\n",
      "Enter instruction :\n"
     ]
    }
   ],
   "source": [
    "#instructions = ['up 5', 'down 1', 'right 6', 'left 3']\n",
    "instructions = get_input()"
   ]
  },
  {
   "cell_type": "code",
   "execution_count": 8,
   "metadata": {},
   "outputs": [
    {
     "name": "stdout",
     "output_type": "stream",
     "text": [
      "['left 6']\n"
     ]
    }
   ],
   "source": [
    "print(instructions)"
   ]
  },
  {
   "cell_type": "code",
   "execution_count": 33,
   "metadata": {},
   "outputs": [
    {
     "name": "stdout",
     "output_type": "stream",
     "text": [
      "current location of robot :  (5, -4)\n",
      "distance : 6.4031242374328485\n"
     ]
    }
   ],
   "source": [
    "x, y = 0, 0\n",
    "for instruction in instructions:\n",
    "    #print('instruction : ', instruction)\n",
    "    data = instruction.split(' ')\n",
    "    direction = data[0]\n",
    "    steps = int(data[1])\n",
    "    #print('direction :', direction)\n",
    "    #print('steps :', steps)\n",
    "    \n",
    "    if direction == 'up':\n",
    "        y += steps\n",
    "    elif direction == 'down':\n",
    "        y -= steps\n",
    "    elif direction == 'right':\n",
    "        x += steps\n",
    "    elif direction == 'left':\n",
    "        x -= steps\n",
    "    #print('------------')\n",
    "\n",
    "# current location\n",
    "print('current location of robot : ', ((x,y)))\n",
    "# distance.\n",
    "distance = math.sqrt(x**2+y**2)\n",
    "print('distance :', distance)\n"
   ]
  },
  {
   "cell_type": "code",
   "execution_count": null,
   "metadata": {},
   "outputs": [],
   "source": []
  }
 ],
 "metadata": {
  "kernelspec": {
   "display_name": "Python 3",
   "language": "python",
   "name": "python3"
  },
  "language_info": {
   "codemirror_mode": {
    "name": "ipython",
    "version": 3
   },
   "file_extension": ".py",
   "mimetype": "text/x-python",
   "name": "python",
   "nbconvert_exporter": "python",
   "pygments_lexer": "ipython3",
   "version": "3.6.5"
  }
 },
 "nbformat": 4,
 "nbformat_minor": 2
}
