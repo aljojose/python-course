{
 "cells": [
  {
   "cell_type": "markdown",
   "metadata": {},
   "source": [
    "## Functions in Python"
   ]
  },
  {
   "cell_type": "markdown",
   "metadata": {},
   "source": [
    "* a named section of a program that performs a specific task."
   ]
  },
  {
   "cell_type": "markdown",
   "metadata": {},
   "source": [
    "### Need of functions"
   ]
  },
  {
   "cell_type": "markdown",
   "metadata": {},
   "source": [
    "1. Write program as a bunch of sub-steps.  \n",
    "2. Reuse code instead of rewriting it.  \n",
    "3. Test small parts of the whole program."
   ]
  },
  {
   "cell_type": "markdown",
   "metadata": {},
   "source": [
    "----"
   ]
  },
  {
   "cell_type": "markdown",
   "metadata": {},
   "source": [
    "### Example - Day at restaurant"
   ]
  },
  {
   "cell_type": "code",
   "execution_count": 9,
   "metadata": {},
   "outputs": [],
   "source": [
    "# function to compute tax\n",
    "def add_tax(bill, tax_prcnt=5):\n",
    "    amount = bill + bill * (tax_prcnt/100)\n",
    "    return amount"
   ]
  },
  {
   "cell_type": "code",
   "execution_count": 13,
   "metadata": {},
   "outputs": [],
   "source": [
    "# function compute tip\n",
    "def add_tip(bill, tip_prcnt):\n",
    "    amount = bill + bill * (tip_prcnt/100)\n",
    "    return amount"
   ]
  },
  {
   "cell_type": "code",
   "execution_count": 15,
   "metadata": {},
   "outputs": [
    {
     "name": "stdout",
     "output_type": "stream",
     "text": [
      "bill with tax 102.0\n",
      "bill with tip 112.2\n",
      "total bill : 112.2\n"
     ]
    }
   ],
   "source": [
    "meal_cost = 100\n",
    "# add tax\n",
    "bill_with_tax = add_tax(meal_cost,2)\n",
    "print(\"bill with tax\", bill_with_tax)\n",
    "# add tip\n",
    "bill_with_tip = add_tip(bill_with_tax,10)\n",
    "print(\"bill with tip\",bill_with_tip)\n",
    "# print total.\n",
    "print(\"total bill :\", bill_with_tip)"
   ]
  },
  {
   "cell_type": "code",
   "execution_count": 20,
   "metadata": {},
   "outputs": [
    {
     "name": "stdout",
     "output_type": "stream",
     "text": [
      "total bill :  112.2\n"
     ]
    }
   ],
   "source": [
    "# can we have a common function to compute tax and bill ?\n",
    "# common function named as compute accepts parameters amount, prcnt..\n",
    "def compute(amount, prcnt):\n",
    "    total = amount + amount*prcnt/100\n",
    "    return total\n",
    "bill = 100\n",
    "bill_with_tax= compute(bill,2)\n",
    "bill_with_tip = compute(bill_with_tax,10)\n",
    "print('total bill : ', bill_with_tip)"
   ]
  },
  {
   "cell_type": "markdown",
   "metadata": {},
   "source": [
    "----"
   ]
  },
  {
   "cell_type": "markdown",
   "metadata": {},
   "source": [
    "### in-built functions"
   ]
  },
  {
   "cell_type": "code",
   "execution_count": 1,
   "metadata": {},
   "outputs": [
    {
     "name": "stdout",
     "output_type": "stream",
     "text": [
      "hello\n"
     ]
    }
   ],
   "source": [
    "print(\"hello\")"
   ]
  },
  {
   "cell_type": "code",
   "execution_count": 8,
   "metadata": {},
   "outputs": [
    {
     "name": "stdout",
     "output_type": "stream",
     "text": [
      "[10, 11, 12, 13, 14, 15, 16, 17, 18, 19]\n"
     ]
    }
   ],
   "source": [
    "my_list = list(range(10,20))\n",
    "print(my_list)"
   ]
  },
  {
   "cell_type": "code",
   "execution_count": 5,
   "metadata": {},
   "outputs": [
    {
     "data": {
      "text/plain": [
       "10"
      ]
     },
     "execution_count": 5,
     "metadata": {},
     "output_type": "execute_result"
    }
   ],
   "source": [
    "len(my_list)"
   ]
  },
  {
   "cell_type": "code",
   "execution_count": 6,
   "metadata": {},
   "outputs": [
    {
     "data": {
      "text/plain": [
       "10"
      ]
     },
     "execution_count": 6,
     "metadata": {},
     "output_type": "execute_result"
    }
   ],
   "source": [
    "min(my_list)"
   ]
  },
  {
   "cell_type": "code",
   "execution_count": 7,
   "metadata": {},
   "outputs": [
    {
     "data": {
      "text/plain": [
       "19"
      ]
     },
     "execution_count": 7,
     "metadata": {},
     "output_type": "execute_result"
    }
   ],
   "source": [
    "max(my_list)"
   ]
  },
  {
   "cell_type": "markdown",
   "metadata": {},
   "source": [
    "------"
   ]
  },
  {
   "cell_type": "code",
   "execution_count": null,
   "metadata": {},
   "outputs": [],
   "source": []
  },
  {
   "cell_type": "markdown",
   "metadata": {},
   "source": [
    "### Excercise - Plan a trip."
   ]
  },
  {
   "cell_type": "markdown",
   "metadata": {},
   "source": [
    "**Hotel Cost**   \n",
    "1. Define a function called hotel_cost with one parameter nights as input.\n",
    "2. The hotel costs $140 per night. So, the function hotel_cost should return 140 * nights.\n"
   ]
  },
  {
   "cell_type": "code",
   "execution_count": 21,
   "metadata": {},
   "outputs": [],
   "source": []
  },
  {
   "cell_type": "code",
   "execution_count": 23,
   "metadata": {},
   "outputs": [
    {
     "data": {
      "text/plain": [
       "420"
      ]
     },
     "execution_count": 23,
     "metadata": {},
     "output_type": "execute_result"
    }
   ],
   "source": [
    "def hotel_cost(nights):\n",
    "    return 140*nights\n",
    "# Test..\n",
    "hotel_cost(3)"
   ]
  },
  {
   "cell_type": "markdown",
   "metadata": {},
   "source": [
    "**Travel cost**\n",
    "1. Define a function called plane_ride_cost that takes a string, city, as input.\n",
    "2. The function should return a different price depending on the location, similar to the code example above. Below are the valid destinations and their corresponding round-trip prices.\n",
    "   * \"Charlotte\": 183 \n",
    "   * \"Tampa\": 220 \n",
    "   * \"Pittsburgh\": 222 \n",
    "   * \"Los Angeles\": 475"
   ]
  },
  {
   "cell_type": "code",
   "execution_count": 29,
   "metadata": {},
   "outputs": [],
   "source": [
    "def plane_ride_cost(city):\n",
    "    ride_cost_dict = {\"Charlotte\": 183, \"Tampa\": 220, \"Pittsburgh\": 222, \"Los Angeles\": 475}\n",
    "    return ride_cost_dict.get(city,-1)"
   ]
  },
  {
   "cell_type": "code",
   "execution_count": 33,
   "metadata": {},
   "outputs": [
    {
     "name": "stdout",
     "output_type": "stream",
     "text": [
      "220\n",
      "-1\n"
     ]
    }
   ],
   "source": [
    "print(plane_ride_cost(\"Tampa\"))\n",
    "print(plane_ride_cost(\"Alaska\"))"
   ]
  },
  {
   "cell_type": "markdown",
   "metadata": {},
   "source": [
    "**Car rental cost**\n",
    "1. Define a function called rental_car_cost with an argument called days.\n",
    "2. Calculate the cost of renting the car - \n",
    "   * Every day you rent the car costs 40 USD.   \n",
    "   * If you rent the car for 7 or more days, you get 50 USD off your total.\n",
    "   * Alternatively, if you rent the car for 3 or more days, you get 20 USD off your total.\n",
    "   * You cannot get both of the above discounts.\n",
    "3. Return the cost.\n"
   ]
  },
  {
   "cell_type": "code",
   "execution_count": 35,
   "metadata": {},
   "outputs": [
    {
     "name": "stdout",
     "output_type": "stream",
     "text": [
      "80\n",
      "100\n",
      "350\n"
     ]
    }
   ],
   "source": [
    "def rental_car_cost(days):\n",
    "    cost = 40*days\n",
    "    if days>=7:\n",
    "        cost = cost - 50\n",
    "    elif days >= 3:\n",
    "        cost = cost -20\n",
    "    return cost\n",
    "#test..\n",
    "print(rental_car_cost(2))\n",
    "print(rental_car_cost(3))\n",
    "print(rental_car_cost(10))"
   ]
  },
  {
   "cell_type": "markdown",
   "metadata": {},
   "source": [
    "** Total Cost **  \n",
    "1. Define a function called trip_cost that takes two parameters, city and days.   \n",
    "2. Return the sum of calling the rental_car_cost(days), hotel_cost(days - 1), and plane_ride_cost(city) functions."
   ]
  },
  {
   "cell_type": "code",
   "execution_count": 37,
   "metadata": {},
   "outputs": [],
   "source": [
    "def trip_cost(city, days):\n",
    "    cost_rental = rental_car_cost(days)\n",
    "    cost_hotel = hotel_cost(days-1)\n",
    "    cost_ride = plane_ride_cost(city)\n",
    "    print('rental cost : ', cost_rental)\n",
    "    print('hotel cost : ', cost_hotel)\n",
    "    print('ride cost : ', cost_ride)\n",
    "    cost_total = cost_rental + cost_hotel + cost_ride\n",
    "    return cost_total\n",
    "    "
   ]
  },
  {
   "cell_type": "markdown",
   "metadata": {},
   "source": [
    "** Now, find trip_cost  if you went to Los Angeles for 5 days ? **"
   ]
  },
  {
   "cell_type": "code",
   "execution_count": 39,
   "metadata": {},
   "outputs": [
    {
     "name": "stdout",
     "output_type": "stream",
     "text": [
      "rental cost :  180\n",
      "hotel cost :  560\n",
      "ride cost :  475\n",
      "total cost :  1215\n"
     ]
    }
   ],
   "source": [
    "total_cost = trip_cost('Los Angeles', 5)\n",
    "print('total cost : ', total_cost)"
   ]
  },
  {
   "cell_type": "code",
   "execution_count": null,
   "metadata": {},
   "outputs": [],
   "source": []
  }
 ],
 "metadata": {
  "kernelspec": {
   "display_name": "Python 3",
   "language": "python",
   "name": "python3"
  },
  "language_info": {
   "codemirror_mode": {
    "name": "ipython",
    "version": 3
   },
   "file_extension": ".py",
   "mimetype": "text/x-python",
   "name": "python",
   "nbconvert_exporter": "python",
   "pygments_lexer": "ipython3",
   "version": "3.6.5"
  }
 },
 "nbformat": 4,
 "nbformat_minor": 2
}
