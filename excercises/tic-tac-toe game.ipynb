{
 "cells": [
  {
   "cell_type": "markdown",
   "metadata": {},
   "source": [
    "## tic-tac-toe game\n",
    "When a player (say player 1, who is X) wants to place an X on the screen, they can’t just click on a terminal. So we are going to approximate this clicking simply by asking the user for a coordinate of where they want to place their piece.\n",
    "\n",
    "As a reminder, our tic tac toe game is really a list of lists. The game starts out with an empty game board like this:\n",
    "\n",
    "game =   [[0, 0, 0],  \n",
    "\t[0, 0, 0],  \n",
    "\t[0, 0, 0]]  \n",
    "The computer asks Player 1 (X) what their move is (in the format row,col), and say they type 1,3. Then the game would print out\n",
    "\n",
    "game = [[0, 0, X],  \n",
    "\t[0, 0, 0],  \n",
    "\t[0, 0, 0]]\n",
    "    \n",
    "And ask Player 2 for their move, printing an O in that place.\n",
    "\n",
    "Things to note:\n",
    "\n",
    "1. For this exercise, assume that player 1 (the first player to move) will always be X and player 2 (the second player) will always be O.\n",
    "2. Notice how in the example I gave coordinates for where I want to move starting from (1, 1) instead of (0, 0). To people who don’t program, starting to count at 0 is a strange concept, so it is better for the user experience if the row counts and column counts start at 1. This is not required, but whichever way you choose to implement this, it should be explained to the player.\n",
    "3. Ask the user to enter coordinates in the form “row,col” - a number, then a comma, then a number. Then you can use your Python skills to figure out which row and column they want their piece to be in.\n",
    "\n",
    "4. Don’t worry about checking whether someone won the game, but if a player tries to put a piece in a game position where there already is another piece, do not allow the piece to go there.\n",
    "\n",
    "**Bonus:**\n",
    "\n",
    "For the “standard” exercise, don’t worry about “ending” the game - no need to keep track of how many squares are full. In a bonus version, keep track of how many squares are full and automatically stop asking for moves when there are no more valid moves."
   ]
  },
  {
   "cell_type": "code",
   "execution_count": null,
   "metadata": {},
   "outputs": [],
   "source": []
  }
 ],
 "metadata": {
  "kernelspec": {
   "display_name": "Python 3",
   "language": "python",
   "name": "python3"
  },
  "language_info": {
   "codemirror_mode": {
    "name": "ipython",
    "version": 3
   },
   "file_extension": ".py",
   "mimetype": "text/x-python",
   "name": "python",
   "nbconvert_exporter": "python",
   "pygments_lexer": "ipython3",
   "version": "3.6.6"
  }
 },
 "nbformat": 4,
 "nbformat_minor": 2
}
